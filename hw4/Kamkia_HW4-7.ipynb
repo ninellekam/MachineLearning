{
 "cells": [
  {
   "cell_type": "markdown",
   "metadata": {},
   "source": [
    "### Алгоритмы интеллектуальной обработки больших объемов данных\n",
    "## Домашнее задание №4 - Градиентный бустинг\n"
   ]
  },
  {
   "cell_type": "markdown",
   "metadata": {},
   "source": [
    "**Общая информация**\n",
    "\n",
    "**Срок сдачи:** 10 мая 2021, 08:30   \n",
    "**Штраф за опоздание:** -2 балла после 08:30 10 мая, -4 балла после 08:30 17 мая, -6 баллов после 08:30 24 мая, -8 баллов после 08:30 31 мая.\n",
    "\n",
    "При отправлении ДЗ указывайте фамилию в названии файла Присылать ДЗ необходимо в виде ссылки на свой github репозиторий на почту ml1.sphere@mail.ru с указанием темы в следующем формате:\n",
    "[ML0221, Задание 4] Фамилия Имя. \n",
    "\n",
    "\n",
    "Используйте данный Ipython Notebook при оформлении домашнего задания."
   ]
  },
  {
   "cell_type": "markdown",
   "metadata": {},
   "source": [
    "##  Считаем производные для функций потерь (1 балл)"
   ]
  },
  {
   "cell_type": "markdown",
   "metadata": {},
   "source": [
    "Мы будем реализовать градиентный бустинг для 3 функций потерь:\n",
    "\n",
    "1) MSE  $L(a(x_i), y_i) = (y_i - a(x_i)) ^ 2$\n",
    "\n",
    "2) Экспоненциальная  $L(a(x_i), y_i) = exp( -a(x_i) y_i), y_i \\in \\{-1, 1\\}$\n",
    "\n",
    "3) Логистическая  $L(a(x_i), y_i) = \\log (1 + exp( -a(x_i) y_i)), y_i \\in \\{-1, 1\\}$\n",
    "\n",
    "где $a(x_i)$ предсказание бустинга на итом объекте. \n",
    "\n",
    "Для каждой функции потерь напишите таргет, на который будет настраиваться каждое дерево в бустинге. "
   ]
  },
  {
   "cell_type": "markdown",
   "metadata": {},
   "source": [
    "**1** - $$-\\frac{\\partial L(a, y_i)}{\\partial a} =2(y_i - a_{i}(x_i))$$ \n",
    "**2** -$$-\\frac{\\partial L(a, y_i)}{\\partial a} =y_iexp(-y_ia_{i}(x_i))$$ \n",
    "**3** -$$-\\frac{\\partial L(a, y_i)}{\\partial a} =  \\frac{y_i}{1 +  exp(-a(x_i) y_i)}$$"
   ]
  },
  {
   "cell_type": "markdown",
   "metadata": {},
   "source": [
    "##  Реализуем градиентный бустинг (3 балла)"
   ]
  },
  {
   "cell_type": "markdown",
   "metadata": {},
   "source": [
    "Реализуйте класс градиентного бустинга для классификации. Ваша реализация бустинга должна работать по точности не более чем на 5 процентов хуже чем GradientBoostingClassifier из sklearn. \n"
   ]
  },
  {
   "cell_type": "markdown",
   "metadata": {},
   "source": [
    "Детали реализации:\n",
    "\n",
    "-- должно поддерживаться 3 функции потерь\n",
    "\n",
    "-- сами базовые алгоритмы(деревья, линейные модели и тп) реализовать не надо, просто возьмите готовые из sklearn\n",
    "\n",
    "-- в качестве функции потерь для построения одного дерева используйте MSE\n",
    "\n",
    "-- шаг в бустинге можно не подбирать, можно брать константный\n",
    "\n",
    "-- можно брать разные модели в качестве инициализации бустинга\n",
    "\n",
    "-- должны поддерживаться следующие параметры:\n",
    "\n",
    "а) число итераций\n",
    "б) размер шага\n",
    "в) процент случайных фичей при построении одного дерева\n",
    "д) процент случайных объектов при построении одного дерева\n",
    "е) параметры базового алгоритма (передавайте через **kwargs)"
   ]
  },
  {
   "cell_type": "code",
   "execution_count": 1,
   "metadata": {},
   "outputs": [],
   "source": [
    "import numpy as np\n",
    "\n",
    "from sklearn.datasets import load_wine\n",
    "from sklearn.ensemble import GradientBoostingClassifier\n",
    "from sklearn.metrics import accuracy_score\n",
    "from sklearn.model_selection import train_test_split\n",
    "from sklearn.tree import DecisionTreeRegressor"
   ]
  },
  {
   "cell_type": "code",
   "execution_count": 137,
   "metadata": {},
   "outputs": [],
   "source": [
    "class MyGradientBoostingClassifier:\n",
    "    def __init__(self, loss='mse', learning_rate=0.5, n_estimators=100, colsample=0.5, subsample=0.5, *args, **kwargs):\n",
    "        \"\"\"\n",
    "        loss -- один из 3 лоссов:\n",
    "        learning_rate -- шаг бустинга\n",
    "        n_estimators -- число итераций\n",
    "        colsample -- процент рандомных признаков при обучнеии одного алгоритма\n",
    "        subsample -- процент рандомных объектов при обучнеии одного алгоритма\n",
    "        args, kwargs -- параметры  базовых моделей\n",
    "        \"\"\"\n",
    "        # Ваш код здесь\n",
    "        self.loss = loss\n",
    "        self.my_trees = []\n",
    "        self.features = []\n",
    "        self.colsample = colsample\n",
    "        self.subsample = subsample\n",
    "        self.learning_rate = learning_rate\n",
    "        self.n_estimators = n_estimators\n",
    "        self.args = args\n",
    "        self.kwargs = kwargs\n",
    "    \n",
    "    def mse_target(self, y, predict):\n",
    "        return 2 * (y - predict).reshape((-1,1))\n",
    "    \n",
    "    def exp_target(self, y, predict):\n",
    "        return y * np.exp(-predict * y)\n",
    "    \n",
    "    def log_loss_target(cls, y, predict):\n",
    "        return y / (1 + np.exp(predict * y))\n",
    "    \n",
    "    \n",
    "    def circle(self, n_estimators, X, a, y,base_model=DecisionTreeRegressor):\n",
    "        \"\"\"\n",
    "        colsample -- процент рандомных признаков при обучнеии одного алгоритма\n",
    "        subsample -- процент рандомных объектов при обучнеии одного алгоритма\n",
    "        \"\"\"\n",
    "        for i in range(n_estimators):            \n",
    "            # colsample\n",
    "            local_colsample = shuffle(list(range(X.shape[1])), random_state=0)\n",
    "            procent_of_random_features = X.shape[1] * self.colsample\n",
    "            local_colsample = local_colsample[:round(X.shape[1] * self.colsample)]\n",
    "            X_f = X[:, local_colsample]\n",
    "            \n",
    "            # subsample\n",
    "            local_subsample = shuffle(list(range(X.shape[0])), random_state=0)\n",
    "            procent_of_random_objects = X.shape[0] * self.subsample\n",
    "            local_subsample = local_subsample[:round(X.shape[0] * self.subsample)]\n",
    "            X_sample = X_f[local_subsample, :]\n",
    "            \n",
    "            #append new features\n",
    "            self.features.append(local_colsample)\n",
    "            \n",
    "            \n",
    "            # y and a\n",
    "            y_sample = y[local_subsample]\n",
    "            a_sample = a[local_subsample]\n",
    "            \n",
    "            # fit our (y and a)\n",
    "            model = base_model(*self.args, **self.kwargs)\n",
    "            if self.loss == 'mse':\n",
    "                model.fit(X_sample, self.mse_target(y_sample, a_sample))\n",
    "            if self.loss == 'log':\n",
    "                model.fit(X_sample, self.log_loss_target(y_sample, a_sample))\n",
    "            if self.loss == 'exp':\n",
    "                model.fit(X_sample, self.exp_target(y_sample, a_sample))\n",
    "            \n",
    "            self.my_trees.append(model)\n",
    "            a = a + self.learning_rate * np.asarray(model.predict(X_f))\n",
    "\n",
    "            \n",
    "    def fit(self, X, y, base_model=DecisionTreeRegressor, init_model=None):\n",
    "        \"\"\"\n",
    "        X -- объекты для обучения:\n",
    "        y -- таргеты для обучения\n",
    "        base_model -- класс базовых моделей, например sklearn.tree.DecisionTreeRegressor\n",
    "        init_model -- класс для первой модели, если None то берем константу (только для посл задания)\n",
    "        \"\"\"\n",
    "        # Ваш код здесь\n",
    "        self.X = np.array(X)\n",
    "        self.y = np.array(y)\n",
    "        if init_model is None:\n",
    "            a = np.mean(y) * np.ones([y.shape[0]])\n",
    "        else: \n",
    "            model = init_model(*self.args, **self.kwargs)\n",
    "            model.fit(X, y)  \n",
    "            \n",
    "            # my_trees and features appendind\n",
    "            self.my_trees.append(model)\n",
    "            self.features.append(list(range(X.shape[1])))\n",
    "            a = np.array(model.predict(X))\n",
    "            \n",
    "        # my_trees appendind model\n",
    "        self.circle(self.n_estimators, X, a, y, base_model)\n",
    "                       \n",
    "        \n",
    "    def predict(self, X):\n",
    "        # Ваш код здесь\n",
    "        a = np.ones([X.shape[0]]) * np.mean(self.y)\n",
    "        for i in range(len(self.my_trees)):\n",
    "            a += self.learning_rate * self.my_trees[i].predict(X[:, self.features[i]])\n",
    "        return np.round(a)\n",
    "\n"
   ]
  },
  {
   "cell_type": "markdown",
   "metadata": {},
   "source": [
    "**fit** : Воспользовались shuffle для перемешивания выборки X. Вычленили нужный процент признаков и объектов из полученной выборки -> функция circle (по итерациям)"
   ]
  },
  {
   "cell_type": "code",
   "execution_count": 138,
   "metadata": {},
   "outputs": [],
   "source": [
    "my_clf = MyGradientBoostingClassifier()\n",
    "clf = GradientBoostingClassifier()"
   ]
  },
  {
   "cell_type": "code",
   "execution_count": 139,
   "metadata": {},
   "outputs": [],
   "source": [
    "wine = load_wine()\n",
    "X_train, X_test, y_train, y_test = train_test_split(wine.data, wine.target, test_size=0.1, stratify=wine.target)"
   ]
  },
  {
   "cell_type": "code",
   "execution_count": 140,
   "metadata": {},
   "outputs": [],
   "source": [
    "from sklearn.utils import shuffle"
   ]
  },
  {
   "cell_type": "code",
   "execution_count": 141,
   "metadata": {},
   "outputs": [
    {
     "name": "stdout",
     "output_type": "stream",
     "text": [
      "1.0\n",
      "0.9444444444444444\n"
     ]
    }
   ],
   "source": [
    "my_clf.fit(X_train, y_train)\n",
    "clf.fit(X_train, y_train)\n",
    "print(accuracy_score(y_pred=clf.predict(X_test), y_true=y_test))\n",
    "print(accuracy_score(y_pred=my_clf.predict(X_test), y_true=y_test))"
   ]
  },
  {
   "cell_type": "markdown",
   "metadata": {},
   "source": [
    "## Подбираем параметры (2 балла)\n",
    "\n",
    "Давайте попробуем применить Ваш бустинг для предсказаний цены домов в Калифорнии. Чтобы можно было попробовтаь разные функции потерь, переведем по порогу таргет в 2 класса: дорогие и дешевые дома."
   ]
  },
  {
   "cell_type": "markdown",
   "metadata": {},
   "source": [
    "В задании нужно\n",
    "\n",
    "1) Построить график точности в зависимости от числа итераций на валидации.\n",
    "\n",
    "2) Подобрать оптимальные параметры Вашего бустинга на валидации. \n"
   ]
  },
  {
   "cell_type": "code",
   "execution_count": 116,
   "metadata": {},
   "outputs": [],
   "source": [
    "from sklearn.datasets import fetch_california_housing\n",
    "X, y = fetch_california_housing(return_X_y=True)"
   ]
  },
  {
   "cell_type": "code",
   "execution_count": 117,
   "metadata": {},
   "outputs": [
    {
     "name": "stdout",
     "output_type": "stream",
     "text": [
      "(20640, 8) (20640,)\n"
     ]
    }
   ],
   "source": [
    "# Превращаем регрессию в классификацию\n",
    "y = (y > 2.0).astype(int)\n",
    "print(X.shape, y.shape)"
   ]
  },
  {
   "cell_type": "code",
   "execution_count": 118,
   "metadata": {},
   "outputs": [],
   "source": [
    "from sklearn.model_selection import train_test_split"
   ]
  },
  {
   "cell_type": "code",
   "execution_count": 119,
   "metadata": {},
   "outputs": [],
   "source": [
    "import tqdm"
   ]
  },
  {
   "cell_type": "code",
   "execution_count": 131,
   "metadata": {},
   "outputs": [
    {
     "name": "stderr",
     "output_type": "stream",
     "text": [
      "100%|██████████| 10/10 [00:01<00:00,  5.44it/s]\n"
     ]
    }
   ],
   "source": [
    "range_ = np.arange(1, 100, 10)\n",
    "\n",
    "train_scores = []\n",
    "test_scores = []\n",
    "sklearn_test_score = []\n",
    "\n",
    "for i in tqdm.tqdm(range_):\n",
    "    my_clf = MyGradientBoostingClassifier(n_estimators=i, max_depth = 3)\n",
    "    clf = GradientBoostingClassifier(n_estimators=i, max_depth = 3)\n",
    "    \n",
    "    my_clf.fit(X_train, y_train)\n",
    "    clf.fit(X_train, y_train)\n",
    "    \n",
    "    test_scores.append(accuracy_score(y_test, my_clf.predict(X_test)))\n",
    "    train_scores.append(accuracy_score(y_train, my_clf.predict(X_train)))\n",
    "    sklearn_test_score.append(accuracy_score(y_test, clf.predict(X_test)))"
   ]
  },
  {
   "cell_type": "code",
   "execution_count": 136,
   "metadata": {},
   "outputs": [
    {
     "data": {
      "image/png": "[encoded data removed]",
      "text/plain": [
       "<Figure size 432x288 with 1 Axes>"
      ]
     },
     "metadata": {},
     "output_type": "display_data"
    }
   ],
   "source": [
    "plt.plot(range_, test_scores, label='Test Scores')\n",
    "plt.plot(range_, train_scores, label='Train Scores')\n",
    "plt.plot(range_, sklearn_test_score, label='Sklearn Test Scores')\n",
    "plt.legend()\n",
    "plt.xlabel('Число итераций')\n",
    "plt.ylabel('Accuracy')\n",
    "plt.show()"
   ]
  },
  {
   "cell_type": "code",
   "execution_count": 134,
   "metadata": {},
   "outputs": [
    {
     "name": "stderr",
     "output_type": "stream",
     "text": [
      "100%|██████████| 149/149 [02:33<00:00,  1.03s/it]\n"
     ]
    }
   ],
   "source": [
    "accuracy = []\n",
    "for i in tqdm.tqdm(range(1, 150)):\n",
    "    X_train, X_test, y_train, y_test = train_test_split(X, y, test_size=0.1, stratify=y)\n",
    "    \n",
    "    # my_clf (init, fit)\n",
    "    my_clf = MyGradientBoostingClassifier(n_estimators=i)\n",
    "    my_clf.fit(X_train, y_train)\n",
    "    \n",
    "    #accuracy\n",
    "    accuracy.append(accuracy_score(y_pred=my_clf.predict(X_test), y_true=y_test))"
   ]
  },
  {
   "cell_type": "code",
   "execution_count": 135,
   "metadata": {},
   "outputs": [
    {
     "data": {
      "image/png": "[encoded data removed]",
      "text/plain": [
       "<Figure size 432x288 with 1 Axes>"
      ]
     },
     "metadata": {},
     "output_type": "display_data"
    }
   ],
   "source": [
    "import matplotlib.pyplot as plt\n",
    "# 1\n",
    "fig = plt.figure(15)\n",
    "ax = fig.add_subplot(111)\n",
    "ax.grid(True)\n",
    "# 2\n",
    "N = 150\n",
    "x = np.arange(1, N, 1)\n",
    "myhex = '#660099'\n",
    "# 3\n",
    "ax.plot(x, accuracy, color=myhex)\n",
    "plt.xlabel('Число итераций')\n",
    "plt.ylabel('Accuracy')\n",
    "plt.show()"
   ]
  },
  {
   "cell_type": "code",
   "execution_count": 39,
   "metadata": {},
   "outputs": [
    {
     "data": {
      "text/plain": [
       "9"
      ]
     },
     "execution_count": 39,
     "metadata": {},
     "output_type": "execute_result"
    }
   ],
   "source": [
    "np.argmax(test_scores)"
   ]
  },
  {
   "cell_type": "code",
   "execution_count": 54,
   "metadata": {},
   "outputs": [],
   "source": [
    "from itertools import product\n",
    "shuffle_params = product(\n",
    "    ('mse', 'exp', 'log'), # loss\n",
    "    (0.25, 0.5, 0.75, 1), # subsample\n",
    "    (0.25, 0.5, 0.75, 1), # colsample\n",
    "    (0.1, 0.3, 0.5)) # learning_rate "
   ]
  },
  {
   "cell_type": "code",
   "execution_count": 55,
   "metadata": {},
   "outputs": [
    {
     "name": "stdout",
     "output_type": "stream",
     "text": [
      "(20640, 8) (20640,)\n"
     ]
    }
   ],
   "source": [
    "from sklearn.model_selection import train_test_split\n",
    "\n",
    "from sklearn.datasets import fetch_california_housing\n",
    "X, y = fetch_california_housing(return_X_y=True)\n",
    "y = (y > 2.0).astype(int)\n",
    "print(X.shape, y.shape)"
   ]
  },
  {
   "cell_type": "code",
   "execution_count": 59,
   "metadata": {},
   "outputs": [],
   "source": [
    "best_estimators = 9\n",
    "my_accuracy = []\n",
    "my_params = []\n",
    "for loss, sub, col, lr in shuffle_params:\n",
    "    my_params.append([loss, sub, col, lr, best_estimators])\n",
    "    clf = MyGradientBoostingClassifier(loss =loss, learning_rate=lr, n_estimators=best_estimators,\n",
    "                                       colsample=col, subsample=sub)\n",
    "    X_train, X_test, y_train, y_test = train_test_split(X, y, test_size=0.1, stratify=y)\n",
    "    clf.fit(X_train, y_train)\n",
    "    my_accuracy.append(accuracy_score(y_pred=clf.predict(X_test), y_true=y_test))"
   ]
  },
  {
   "cell_type": "code",
   "execution_count": 60,
   "metadata": {},
   "outputs": [
    {
     "data": {
      "text/plain": [
       "0.8691860465116279"
      ]
     },
     "execution_count": 60,
     "metadata": {},
     "output_type": "execute_result"
    }
   ],
   "source": [
    "np.max(my_accuracy)"
   ]
  },
  {
   "cell_type": "code",
   "execution_count": 61,
   "metadata": {},
   "outputs": [
    {
     "data": {
      "text/plain": [
       "['mse', 0.75, 0.5, 0.5, 9]"
      ]
     },
     "execution_count": 61,
     "metadata": {},
     "output_type": "execute_result"
    }
   ],
   "source": [
    "my_params[np.argmax(my_accuracy)]"
   ]
  },
  {
   "cell_type": "code",
   "execution_count": null,
   "metadata": {},
   "outputs": [],
   "source": []
  },
  {
   "cell_type": "markdown",
   "metadata": {},
   "source": [
    "## BooBag BagBoo (1 балл)\n",
    "\n"
   ]
  },
  {
   "cell_type": "markdown",
   "metadata": {},
   "source": [
    "Попробуем объединить бустинг и бэгинг. Давайте\n",
    "\n",
    "1) в качестве базовой модели брать не дерево решений, а случайный лес (из sklearn)\n",
    "\n",
    "2) обучать N бустингов на бустрапированной выборке, а затем предикт усреднять"
   ]
  },
  {
   "cell_type": "markdown",
   "metadata": {},
   "source": [
    "Попробуйте обе этих стратегии на данных из прошлого задания. Получилось ли улучшить качество? Почему?"
   ]
  },
  {
   "cell_type": "code",
   "execution_count": 62,
   "metadata": {},
   "outputs": [
    {
     "name": "stdout",
     "output_type": "stream",
     "text": [
      "0.8624031007751938\n"
     ]
    }
   ],
   "source": [
    "from sklearn.ensemble import RandomForestRegressor\n",
    "N = 10\n",
    "X_train, X_test, y_train, y_test = train_test_split(X, y, test_size=0.1, stratify=y)\n",
    "my_clf = MyGradientBoostingClassifier('mse', 0.75, 9, 0.5, 0.5, N)\n",
    "my_clf.fit(X_train, y_train, RandomForestRegressor)\n",
    "print(accuracy_score(y_pred=my_clf.predict(X_test), y_true=y_test))"
   ]
  },
  {
   "cell_type": "code",
   "execution_count": 63,
   "metadata": {},
   "outputs": [
    {
     "name": "stdout",
     "output_type": "stream",
     "text": [
      "0.8832364341085271\n"
     ]
    }
   ],
   "source": [
    "X_train, X_test, y_train, y_test = train_test_split(X, y, test_size=0.1, stratify=y)\n",
    "a = np.ones([X_test.shape[0]]) * np.mean(y_train)\n",
    "for i in range(N):\n",
    "    indices = np.random.randint(0, len(y_train), (1, len(y_train)))[0]\n",
    "    X_samples = X_train[indices, :]\n",
    "    y_samples = y_train[indices]\n",
    "    my_clf = MyGradientBoostingClassifier('mse', 0.75, 9, 0.5, 0.5)\n",
    "    my_clf.fit(X_samples, y_samples, DecisionTreeRegressor)\n",
    "    a += my_clf.predict(X_test)\n",
    "a = np.round(a / N)\n",
    "print(accuracy_score(y_pred=a, y_true=y_test))"
   ]
  },
  {
   "cell_type": "markdown",
   "metadata": {},
   "source": [
    "Получилось улучшить качество. Мы запустили модель с лучшими коэффициентами, подобранными на предудщем этапе\n"
   ]
  },
  {
   "cell_type": "markdown",
   "metadata": {
    "collapsed": true
   },
   "source": [
    "## Умная инициализация (1 балл)\n",
    "\n",
    "Попробуйте брать в качестве инициализации бустинга не константу, а какой-то алгоритм и уже от его предикта стартовать итерации бустинга. Попробуйте разные модели из sklearn: линейные модели, рандом форест, svm..\n",
    "\n",
    "Получилось ли улучшить качество? Почему?\n",
    "\n"
   ]
  },
  {
   "cell_type": "code",
   "execution_count": 68,
   "metadata": {},
   "outputs": [],
   "source": [
    "import warnings\n",
    "warnings.filterwarnings('ignore')\n",
    "\n",
    "from sklearn.preprocessing import StandardScaler\n",
    "from sklearn.linear_model import LogisticRegression"
   ]
  },
  {
   "cell_type": "markdown",
   "metadata": {},
   "source": [
    "**LogisticRegression**\n"
   ]
  },
  {
   "cell_type": "code",
   "execution_count": 69,
   "metadata": {},
   "outputs": [],
   "source": [
    "my_clf = MyGradientBoostingClassifier()"
   ]
  },
  {
   "cell_type": "code",
   "execution_count": 82,
   "metadata": {},
   "outputs": [],
   "source": [
    "scaler = StandardScaler()\n",
    "X_train_scale = scaler.fit_transform(X_train)"
   ]
  },
  {
   "cell_type": "code",
   "execution_count": 83,
   "metadata": {},
   "outputs": [],
   "source": [
    "my_clf.fit(X_train_scale, y_train, DecisionTreeRegressor, LogisticRegression)"
   ]
  },
  {
   "cell_type": "code",
   "execution_count": 84,
   "metadata": {},
   "outputs": [
    {
     "data": {
      "text/plain": [
       "0.7747093023255814"
      ]
     },
     "execution_count": 84,
     "metadata": {},
     "output_type": "execute_result"
    }
   ],
   "source": [
    "X_test_scale = scaler.transform(X_test)\n",
    "accuracy_score(y_test, my_clf.predict(X_test_scale))"
   ]
  },
  {
   "cell_type": "markdown",
   "metadata": {},
   "source": [
    "Качество ухудшилось... :( Зависит от того как будет проиходить шаф, воля случая"
   ]
  },
  {
   "cell_type": "markdown",
   "metadata": {},
   "source": [
    "**RandomForest**"
   ]
  },
  {
   "cell_type": "code",
   "execution_count": 85,
   "metadata": {},
   "outputs": [],
   "source": [
    "from sklearn.ensemble import RandomForestRegressor, RandomForestClassifier"
   ]
  },
  {
   "cell_type": "code",
   "execution_count": 86,
   "metadata": {},
   "outputs": [],
   "source": [
    "my_clf = MyGradientBoostingClassifier()\n",
    "\n",
    "my_clf.fit(X_train, y_train, DecisionTreeRegressor, RandomForestClassifier)"
   ]
  },
  {
   "cell_type": "code",
   "execution_count": 87,
   "metadata": {},
   "outputs": [
    {
     "data": {
      "text/plain": [
       "0.8788759689922481"
      ]
     },
     "execution_count": 87,
     "metadata": {},
     "output_type": "execute_result"
    }
   ],
   "source": [
    "accuracy_score(y_test, my_clf.predict(X_test))"
   ]
  },
  {
   "cell_type": "markdown",
   "metadata": {
    "collapsed": true
   },
   "source": [
    "Качество стало на чуть лучше в случае инициализации при RanodmForest! Наверное потому, что мы на первой итерации получаем более точное решение, ошибки которого нам будет проще исправить"
   ]
  },
  {
   "cell_type": "markdown",
   "metadata": {},
   "source": [
    "## Фидбек (бесценно)"
   ]
  },
  {
   "cell_type": "markdown",
   "metadata": {},
   "source": [
    "* Какие аспекты обучения  ансамблей Вам показались непонятными? Какое место стоит дополнительно объяснить?"
   ]
  },
  {
   "cell_type": "markdown",
   "metadata": {},
   "source": [
    "### Ваш ответ здесь"
   ]
  },
  {
   "cell_type": "markdown",
   "metadata": {},
   "source": [
    "Больше практики бы на семинарах( <3\n"
   ]
  },
  {
   "cell_type": "markdown",
   "metadata": {},
   "source": [
    "### ВАШ ОТЗЫВ ЗДЕСЬ\n",
    "\n"
   ]
  },
  {
   "cell_type": "code",
   "execution_count": null,
   "metadata": {
    "collapsed": true
   },
   "outputs": [],
   "source": []
  },
  {
   "cell_type": "code",
   "execution_count": null,
   "metadata": {
    "collapsed": true
   },
   "outputs": [],
   "source": []
  }
 ],
 "metadata": {
  "anaconda-cloud": {},
  "kernelspec": {
   "display_name": "Python 3",
   "language": "python",
   "name": "python3"
  },
  "language_info": {
   "codemirror_mode": {
    "name": "ipython",
    "version": 3
   },
   "file_extension": ".py",
   "mimetype": "text/x-python",
   "name": "python",
   "nbconvert_exporter": "python",
   "pygments_lexer": "ipython3",
   "version": "3.7.10"
  }
 },
 "nbformat": 4,
 "nbformat_minor": 2
}
